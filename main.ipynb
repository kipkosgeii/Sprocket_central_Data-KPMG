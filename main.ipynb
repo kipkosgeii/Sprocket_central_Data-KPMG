{
 "cells": [
  {
   "cell_type": "code",
   "execution_count": 2,
   "metadata": {},
   "outputs": [],
   "source": [
    "import pandas as pd \n",
    "import numpy as np\n",
    "import openpyxl"
   ]
  },
  {
   "cell_type": "code",
   "execution_count": 72,
   "metadata": {},
   "outputs": [],
   "source": [
    "# reading all the 3 sheets in the Excel\n",
    "\n",
    "CustomerDemographic_df = pd.read_excel('KPMG_VI_New_raw_data_update_final.xlsx', sheet_name='CustomerDemographic')\n",
    "Transactions_df = pd.read_excel('KPMG_VI_New_raw_data_update_final.xlsx', sheet_name='Transactions')\n",
    "CustomerAddress_df = pd.read_excel('KPMG_VI_New_raw_data_update_final.xlsx', sheet_name='CustomerAddress')"
   ]
  },
  {
   "cell_type": "code",
   "execution_count": 74,
   "metadata": {},
   "outputs": [],
   "source": [
    "# Saving all the data to a csv\n",
    "CustomerDemographic_df.to_csv('./new_data/CustomerDemographic_df.csv',index=False, header=False)\n",
    "Transactions_df.to_csv('./new_data/Transactions.csv',index=False, header=False)\n",
    "CustomerAddress_df.to_csv('./new_data/CustomerAddress_df.csv',index=False,header=False)\n"
   ]
  },
  {
   "cell_type": "code",
   "execution_count": 76,
   "metadata": {},
   "outputs": [],
   "source": [
    "# reading all the three new data\n",
    "CustomerDemographic_df = pd.read_csv('./new_data/CustomerDemographic_df.csv')\n",
    "Transactions_df = pd.read_csv('./new_data/Transactions.csv')\n",
    "CustomerAddress_df = pd.read_csv('./new_data/CustomerAddress_df.csv')\n",
    "\n",
    "\n",
    "CustomerDemographic_df[['customer_id', \n",
    "                        # 'first_name', 'last_name', \n",
    "                        'gender',\n",
    "       'past_3_years_bike_related_purchases', 'DOB', 'job_title',\n",
    "       'job_industry_category', 'wealth_segment',\n",
    "        #  'deceased_indicator',\n",
    "    #    'default',\n",
    "     'owns_car', 'tenure']].to_csv('./new_data/CustomerDemographic_df.csv',index=False, header=False)"
   ]
  },
  {
   "cell_type": "markdown",
   "metadata": {},
   "source": [
    "Checking Corectness of Customer Demographic\n"
   ]
  },
  {
   "cell_type": "code",
   "execution_count": 94,
   "metadata": {},
   "outputs": [
    {
     "data": {
      "text/plain": [
       "customer_id                             0.000\n",
       "first_name                              0.000\n",
       "last_name                               3.125\n",
       "gender                                  0.000\n",
       "past_3_years_bike_related_purchases     0.000\n",
       "DOB                                     2.175\n",
       "job_title                              12.650\n",
       "job_industry_category                  16.400\n",
       "wealth_segment                          0.000\n",
       "deceased_indicator                      0.000\n",
       "default                                 8.475\n",
       "owns_car                                0.000\n",
       "tenure                                  2.175\n",
       "Date                                    2.175\n",
       "dtype: float64"
      ]
     },
     "execution_count": 94,
     "metadata": {},
     "output_type": "execute_result"
    }
   ],
   "source": [
    "# checking if there are missing values\n",
    "CustomerDemographic_df.isnull().sum() * 100/len(CustomerDemographic_df)"
   ]
  },
  {
   "cell_type": "code",
   "execution_count": 23,
   "metadata": {},
   "outputs": [
    {
     "data": {
      "text/plain": [
       "customer_id                            4000\n",
       "first_name                             3139\n",
       "last_name                              3725\n",
       "gender                                    6\n",
       "past_3_years_bike_related_purchases     100\n",
       "DOB                                    3448\n",
       "job_title                               195\n",
       "job_industry_category                     9\n",
       "wealth_segment                            3\n",
       "deceased_indicator                        2\n",
       "default                                  89\n",
       "owns_car                                  2\n",
       "tenure                                   22\n",
       "dtype: int64"
      ]
     },
     "execution_count": 23,
     "metadata": {},
     "output_type": "execute_result"
    }
   ],
   "source": [
    "# Checking Unique Values \n",
    "CustomerDemographic_df.nunique()"
   ]
  },
  {
   "cell_type": "code",
   "execution_count": 98,
   "metadata": {},
   "outputs": [
    {
     "name": "stdout",
     "output_type": "stream",
     "text": [
      "They are all in right values\n"
     ]
    }
   ],
   "source": [
    "# checking on date value\n",
    "CustomerDemographic_df['Date'] = CustomerDemographic_df['DOB'].str.split(n=1).str[0]\n",
    "\n",
    "CustomerDemographic_df['Date']=pd.to_datetime(CustomerDemographic_df['Date'], errors='coerce')\n",
    "\n",
    "\n",
    "if CustomerDemographic_df['Date'].dtype == 'datetime64[ns]':\n",
    "    print('They are all in right values')\n",
    "\n",
    "else:\n",
    "    print('Some values are not')\n"
   ]
  },
  {
   "cell_type": "code",
   "execution_count": 101,
   "metadata": {},
   "outputs": [
    {
     "name": "stdout",
     "output_type": "stream",
     "text": [
      "They are all in right values\n"
     ]
    }
   ],
   "source": [
    "# Cheking correct data types\n",
    "\n",
    "if CustomerDemographic_df['customer_id'].dtype == 'int64':\n",
    "    print('They are all in right values')\n",
    "\n",
    "else:\n",
    "    print('Some values are not')\n"
   ]
  },
  {
   "cell_type": "code",
   "execution_count": 102,
   "metadata": {},
   "outputs": [
    {
     "name": "stdout",
     "output_type": "stream",
     "text": [
      "They are all in right values\n"
     ]
    }
   ],
   "source": [
    "\n",
    "if CustomerDemographic_df['tenure'].dtype == 'float':\n",
    "    print('They are all in right values')\n",
    "\n",
    "else:\n",
    "    print('Some values are not')"
   ]
  },
  {
   "cell_type": "code",
   "execution_count": 104,
   "metadata": {},
   "outputs": [
    {
     "data": {
      "text/plain": [
       "Index(['customer_id', 'first_name', 'last_name', 'gender',\n",
       "       'past_3_years_bike_related_purchases', 'DOB', 'job_title',\n",
       "       'job_industry_category', 'wealth_segment', 'deceased_indicator',\n",
       "       'default', 'owns_car', 'tenure', 'Date'],\n",
       "      dtype='object')"
      ]
     },
     "execution_count": 104,
     "metadata": {},
     "output_type": "execute_result"
    }
   ],
   "source": [
    "CustomerDemographic_df.columns"
   ]
  },
  {
   "cell_type": "code",
   "execution_count": 133,
   "metadata": {},
   "outputs": [
    {
     "name": "stdout",
     "output_type": "stream",
     "text": [
      "Missing Values Check Failed:\n",
      "customer_id                            False\n",
      "first_name                             False\n",
      "last_name                               True\n",
      "gender                                 False\n",
      "past_3_years_bike_related_purchases    False\n",
      "DOB                                     True\n",
      "job_title                               True\n",
      "job_industry_category                   True\n",
      "wealth_segment                         False\n",
      "deceased_indicator                     False\n",
      "default                                 True\n",
      "owns_car                               False\n",
      "tenure                                  True\n",
      "Date                                    True\n",
      "dtype: bool\n",
      "Unique Values Check Failed:\n",
      "customer_id                             True\n",
      "first_name                             False\n",
      "last_name                              False\n",
      "gender                                 False\n",
      "past_3_years_bike_related_purchases    False\n",
      "DOB                                    False\n",
      "job_title                              False\n",
      "job_industry_category                  False\n",
      "wealth_segment                         False\n",
      "deceased_indicator                     False\n",
      "default                                False\n",
      "owns_car                               False\n",
      "tenure                                 False\n",
      "Date                                   False\n",
      "dtype: bool\n"
     ]
    }
   ],
   "source": [
    "validation_results = {\n",
    "    'Missing Values': CustomerDemographic_df[['customer_id', 'first_name', 'last_name', 'gender',\n",
    "       'past_3_years_bike_related_purchases', 'DOB', 'job_title',\n",
    "       'job_industry_category', 'wealth_segment', 'deceased_indicator',\n",
    "       'default', 'owns_car', 'tenure', 'Date']].isna().any(),\n",
    "    'Unique Values': CustomerDemographic_df[['customer_id', 'first_name', 'last_name', 'gender',\n",
    "       'past_3_years_bike_related_purchases', 'DOB', 'job_title',\n",
    "       'job_industry_category', 'wealth_segment', 'deceased_indicator',\n",
    "       'default', 'owns_car', 'tenure', 'Date']].nunique() == len(CustomerDemographic_df),\n",
    "}\n",
    "\n",
    "for check, result in validation_results.items():\n",
    "    if not result.all():\n",
    "        print(f\"{check} Check Failed:\")\n",
    "        print(result)"
   ]
  },
  {
   "cell_type": "code",
   "execution_count": 77,
   "metadata": {},
   "outputs": [
    {
     "data": {
      "text/html": [
       "<div>\n",
       "<style scoped>\n",
       "    .dataframe tbody tr th:only-of-type {\n",
       "        vertical-align: middle;\n",
       "    }\n",
       "\n",
       "    .dataframe tbody tr th {\n",
       "        vertical-align: top;\n",
       "    }\n",
       "\n",
       "    .dataframe thead th {\n",
       "        text-align: right;\n",
       "    }\n",
       "</style>\n",
       "<table border=\"1\" class=\"dataframe\">\n",
       "  <thead>\n",
       "    <tr style=\"text-align: right;\">\n",
       "      <th></th>\n",
       "      <th>transaction_id</th>\n",
       "      <th>product_id</th>\n",
       "      <th>customer_id</th>\n",
       "      <th>transaction_date</th>\n",
       "      <th>online_order</th>\n",
       "      <th>order_status</th>\n",
       "      <th>brand</th>\n",
       "      <th>product_line</th>\n",
       "      <th>product_class</th>\n",
       "      <th>product_size</th>\n",
       "      <th>list_price</th>\n",
       "      <th>standard_cost</th>\n",
       "      <th>product_first_sold_date</th>\n",
       "      <th>Dates</th>\n",
       "    </tr>\n",
       "  </thead>\n",
       "  <tbody>\n",
       "    <tr>\n",
       "      <th>0</th>\n",
       "      <td>1</td>\n",
       "      <td>2</td>\n",
       "      <td>2950</td>\n",
       "      <td>2017-02-25 00:00:00</td>\n",
       "      <td>False</td>\n",
       "      <td>Approved</td>\n",
       "      <td>Solex</td>\n",
       "      <td>Standard</td>\n",
       "      <td>medium</td>\n",
       "      <td>medium</td>\n",
       "      <td>71.49</td>\n",
       "      <td>53.62</td>\n",
       "      <td>41245.0</td>\n",
       "      <td>2017-02-25</td>\n",
       "    </tr>\n",
       "    <tr>\n",
       "      <th>1</th>\n",
       "      <td>2</td>\n",
       "      <td>3</td>\n",
       "      <td>3120</td>\n",
       "      <td>2017-05-21 00:00:00</td>\n",
       "      <td>True</td>\n",
       "      <td>Approved</td>\n",
       "      <td>Trek Bicycles</td>\n",
       "      <td>Standard</td>\n",
       "      <td>medium</td>\n",
       "      <td>large</td>\n",
       "      <td>2091.47</td>\n",
       "      <td>388.92</td>\n",
       "      <td>41701.0</td>\n",
       "      <td>2017-05-21</td>\n",
       "    </tr>\n",
       "    <tr>\n",
       "      <th>2</th>\n",
       "      <td>3</td>\n",
       "      <td>37</td>\n",
       "      <td>402</td>\n",
       "      <td>2017-10-16 00:00:00</td>\n",
       "      <td>False</td>\n",
       "      <td>Approved</td>\n",
       "      <td>OHM Cycles</td>\n",
       "      <td>Standard</td>\n",
       "      <td>low</td>\n",
       "      <td>medium</td>\n",
       "      <td>1793.43</td>\n",
       "      <td>248.82</td>\n",
       "      <td>36361.0</td>\n",
       "      <td>2017-10-16</td>\n",
       "    </tr>\n",
       "    <tr>\n",
       "      <th>3</th>\n",
       "      <td>4</td>\n",
       "      <td>88</td>\n",
       "      <td>3135</td>\n",
       "      <td>2017-08-31 00:00:00</td>\n",
       "      <td>False</td>\n",
       "      <td>Approved</td>\n",
       "      <td>Norco Bicycles</td>\n",
       "      <td>Standard</td>\n",
       "      <td>medium</td>\n",
       "      <td>medium</td>\n",
       "      <td>1198.46</td>\n",
       "      <td>381.10</td>\n",
       "      <td>36145.0</td>\n",
       "      <td>2017-08-31</td>\n",
       "    </tr>\n",
       "    <tr>\n",
       "      <th>4</th>\n",
       "      <td>5</td>\n",
       "      <td>78</td>\n",
       "      <td>787</td>\n",
       "      <td>2017-10-01 00:00:00</td>\n",
       "      <td>True</td>\n",
       "      <td>Approved</td>\n",
       "      <td>Giant Bicycles</td>\n",
       "      <td>Standard</td>\n",
       "      <td>medium</td>\n",
       "      <td>large</td>\n",
       "      <td>1765.30</td>\n",
       "      <td>709.48</td>\n",
       "      <td>42226.0</td>\n",
       "      <td>2017-10-01</td>\n",
       "    </tr>\n",
       "  </tbody>\n",
       "</table>\n",
       "</div>"
      ],
      "text/plain": [
       "   transaction_id  product_id  customer_id     transaction_date online_order  \\\n",
       "0               1           2         2950  2017-02-25 00:00:00        False   \n",
       "1               2           3         3120  2017-05-21 00:00:00         True   \n",
       "2               3          37          402  2017-10-16 00:00:00        False   \n",
       "3               4          88         3135  2017-08-31 00:00:00        False   \n",
       "4               5          78          787  2017-10-01 00:00:00         True   \n",
       "\n",
       "  order_status           brand product_line product_class product_size  \\\n",
       "0     Approved           Solex     Standard        medium       medium   \n",
       "1     Approved   Trek Bicycles     Standard        medium        large   \n",
       "2     Approved      OHM Cycles     Standard           low       medium   \n",
       "3     Approved  Norco Bicycles     Standard        medium       medium   \n",
       "4     Approved  Giant Bicycles     Standard        medium        large   \n",
       "\n",
       "   list_price  standard_cost  product_first_sold_date      Dates  \n",
       "0       71.49          53.62                  41245.0 2017-02-25  \n",
       "1     2091.47         388.92                  41701.0 2017-05-21  \n",
       "2     1793.43         248.82                  36361.0 2017-10-16  \n",
       "3     1198.46         381.10                  36145.0 2017-08-31  \n",
       "4     1765.30         709.48                  42226.0 2017-10-01  "
      ]
     },
     "execution_count": 77,
     "metadata": {},
     "output_type": "execute_result"
    }
   ],
   "source": [
    "Transactions_df.head(5)"
   ]
  },
  {
   "cell_type": "code",
   "execution_count": 82,
   "metadata": {},
   "outputs": [
    {
     "data": {
      "text/plain": [
       "0"
      ]
     },
     "execution_count": 82,
     "metadata": {},
     "output_type": "execute_result"
    }
   ],
   "source": [
    "Transactions_df.duplicated().sum()"
   ]
  },
  {
   "cell_type": "code",
   "execution_count": 89,
   "metadata": {},
   "outputs": [
    {
     "data": {
      "text/plain": [
       "transaction_id             0.000\n",
       "product_id                 0.000\n",
       "customer_id                0.000\n",
       "transaction_date           0.000\n",
       "online_order               1.800\n",
       "order_status               0.000\n",
       "brand                      0.985\n",
       "product_line               0.985\n",
       "product_class              0.985\n",
       "product_size               0.985\n",
       "list_price                 0.000\n",
       "standard_cost              0.985\n",
       "product_first_sold_date    0.985\n",
       "Dates                      0.000\n",
       "dtype: float64"
      ]
     },
     "execution_count": 89,
     "metadata": {},
     "output_type": "execute_result"
    }
   ],
   "source": [
    "Transactions_df_missingP = Transactions_df.isnull().sum() * 100/len(Transactions_df)\n",
    "\n",
    "Transactions_df_missingP"
   ]
  },
  {
   "cell_type": "code",
   "execution_count": 83,
   "metadata": {},
   "outputs": [
    {
     "data": {
      "text/plain": [
       "array(['Approved', 'Cancelled'], dtype=object)"
      ]
     },
     "execution_count": 83,
     "metadata": {},
     "output_type": "execute_result"
    }
   ],
   "source": [
    "Transactions_df['order_status'].unique()"
   ]
  },
  {
   "cell_type": "code",
   "execution_count": 84,
   "metadata": {},
   "outputs": [
    {
     "data": {
      "text/plain": [
       "dtype('float64')"
      ]
     },
     "execution_count": 84,
     "metadata": {},
     "output_type": "execute_result"
    }
   ],
   "source": [
    "Transactions_df['list_price'].dtype"
   ]
  },
  {
   "cell_type": "code",
   "execution_count": 87,
   "metadata": {},
   "outputs": [
    {
     "data": {
      "text/plain": [
       "dtype('float64')"
      ]
     },
     "execution_count": 87,
     "metadata": {},
     "output_type": "execute_result"
    }
   ],
   "source": [
    "Transactions_df['product_first_sold_date'].dtype"
   ]
  },
  {
   "cell_type": "code",
   "execution_count": 67,
   "metadata": {},
   "outputs": [
    {
     "name": "stdout",
     "output_type": "stream",
     "text": [
      "They are all in right values\n"
     ]
    },
    {
     "data": {
      "text/plain": [
       "0        False\n",
       "1        False\n",
       "2        False\n",
       "3        False\n",
       "4        False\n",
       "         ...  \n",
       "19995    False\n",
       "19996    False\n",
       "19997    False\n",
       "19998    False\n",
       "19999    False\n",
       "Name: Dates, Length: 20000, dtype: bool"
      ]
     },
     "execution_count": 67,
     "metadata": {},
     "output_type": "execute_result"
    }
   ],
   "source": [
    "Transactions_df['Dates'] = Transactions_df['transaction_date' ].str.split(n=1).str[0]\n",
    "\n",
    "Transactions_df['Dates'] =pd.to_datetime(Transactions_df['Dates'], errors='coerce')\n",
    "\n",
    "\n",
    "if Transactions_df['Dates'].dtype == 'datetime64[ns]':\n",
    "    print('They are all in right values')\n",
    "\n",
    "else:\n",
    "    print('Some values are not')\n",
    "\n",
    "# checking for missing values in same data\n",
    "\n",
    "Transactions_df['Dates'].isnull()"
   ]
  },
  {
   "cell_type": "code",
   "execution_count": 114,
   "metadata": {},
   "outputs": [
    {
     "data": {
      "text/html": [
       "<div>\n",
       "<style scoped>\n",
       "    .dataframe tbody tr th:only-of-type {\n",
       "        vertical-align: middle;\n",
       "    }\n",
       "\n",
       "    .dataframe tbody tr th {\n",
       "        vertical-align: top;\n",
       "    }\n",
       "\n",
       "    .dataframe thead th {\n",
       "        text-align: right;\n",
       "    }\n",
       "</style>\n",
       "<table border=\"1\" class=\"dataframe\">\n",
       "  <thead>\n",
       "    <tr style=\"text-align: right;\">\n",
       "      <th></th>\n",
       "      <th>customer_id</th>\n",
       "      <th>address</th>\n",
       "      <th>postcode</th>\n",
       "      <th>state</th>\n",
       "      <th>country</th>\n",
       "      <th>property_valuation</th>\n",
       "    </tr>\n",
       "  </thead>\n",
       "  <tbody>\n",
       "    <tr>\n",
       "      <th>0</th>\n",
       "      <td>1</td>\n",
       "      <td>060 Morning Avenue</td>\n",
       "      <td>2016</td>\n",
       "      <td>New South Wales</td>\n",
       "      <td>Australia</td>\n",
       "      <td>10</td>\n",
       "    </tr>\n",
       "    <tr>\n",
       "      <th>1</th>\n",
       "      <td>2</td>\n",
       "      <td>6 Meadow Vale Court</td>\n",
       "      <td>2153</td>\n",
       "      <td>New South Wales</td>\n",
       "      <td>Australia</td>\n",
       "      <td>10</td>\n",
       "    </tr>\n",
       "    <tr>\n",
       "      <th>2</th>\n",
       "      <td>4</td>\n",
       "      <td>0 Holy Cross Court</td>\n",
       "      <td>4211</td>\n",
       "      <td>QLD</td>\n",
       "      <td>Australia</td>\n",
       "      <td>9</td>\n",
       "    </tr>\n",
       "    <tr>\n",
       "      <th>3</th>\n",
       "      <td>5</td>\n",
       "      <td>17979 Del Mar Point</td>\n",
       "      <td>2448</td>\n",
       "      <td>New South Wales</td>\n",
       "      <td>Australia</td>\n",
       "      <td>4</td>\n",
       "    </tr>\n",
       "    <tr>\n",
       "      <th>4</th>\n",
       "      <td>6</td>\n",
       "      <td>9 Oakridge Court</td>\n",
       "      <td>3216</td>\n",
       "      <td>VIC</td>\n",
       "      <td>Australia</td>\n",
       "      <td>9</td>\n",
       "    </tr>\n",
       "  </tbody>\n",
       "</table>\n",
       "</div>"
      ],
      "text/plain": [
       "   customer_id              address  postcode            state    country  \\\n",
       "0            1   060 Morning Avenue      2016  New South Wales  Australia   \n",
       "1            2  6 Meadow Vale Court      2153  New South Wales  Australia   \n",
       "2            4   0 Holy Cross Court      4211              QLD  Australia   \n",
       "3            5  17979 Del Mar Point      2448  New South Wales  Australia   \n",
       "4            6     9 Oakridge Court      3216              VIC  Australia   \n",
       "\n",
       "   property_valuation  \n",
       "0                  10  \n",
       "1                  10  \n",
       "2                   9  \n",
       "3                   4  \n",
       "4                   9  "
      ]
     },
     "execution_count": 114,
     "metadata": {},
     "output_type": "execute_result"
    }
   ],
   "source": [
    "CustomerAddress_df.head(5)"
   ]
  },
  {
   "cell_type": "code",
   "execution_count": 129,
   "metadata": {},
   "outputs": [
    {
     "name": "stdout",
     "output_type": "stream",
     "text": [
      "Missing Values Check Failed:\n",
      "address               False\n",
      "postcode              False\n",
      "state                 False\n",
      "country               False\n",
      "property_valuation    False\n",
      "dtype: bool\n",
      "Unique Values Check Failed:\n",
      "address               False\n",
      "postcode              False\n",
      "state                 False\n",
      "country               False\n",
      "property_valuation    False\n",
      "dtype: bool\n"
     ]
    }
   ],
   "source": [
    "validation_results = {\n",
    "    'Missing Values': CustomerAddress_df[['address','postcode','state','country','property_valuation']].isna().any(),\n",
    "    'Unique Values': CustomerAddress_df[['address','postcode','state','country','property_valuation']].nunique() == len(CustomerAddress_df),\n",
    "    # 'Data Type': CustomerAddress_df['postcode'].dtypes == object\n",
    "}\n",
    "\n",
    "for check, result in validation_results.items():\n",
    "    if not result.all():\n",
    "        print(f\"{check} Check Failed:\")\n",
    "        print(result)"
   ]
  }
 ],
 "metadata": {
  "kernelspec": {
   "display_name": "Python 3",
   "language": "python",
   "name": "python3"
  },
  "language_info": {
   "codemirror_mode": {
    "name": "ipython",
    "version": 3
   },
   "file_extension": ".py",
   "mimetype": "text/x-python",
   "name": "python",
   "nbconvert_exporter": "python",
   "pygments_lexer": "ipython3",
   "version": "3.10.12"
  }
 },
 "nbformat": 4,
 "nbformat_minor": 2
}
